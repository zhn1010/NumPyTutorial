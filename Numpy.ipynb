{
 "cells": [
  {
   "cell_type": "markdown",
   "metadata": {
    "slideshow": {
     "slide_type": "slide"
    }
   },
   "source": [
    "# Numpy\n",
    "\n",
    "- NumPy is an acronym for \"Numeric Python\" or \"Numerical Python\". \n",
    "- It is an open source extension module for Python. \n",
    "- Provides fast precompiled functions for mathematical and numerical routines. \n",
    "- NumPy and SciPy were created to do numerical and scientific computing in the most natural way with Python, not to be MATLAB® clones.\n",
    "\n",
    "Important subtle difference from MATLAB : numpy arrays are *not* part of the core language. So they can be developed, extend, and modified without installing a new python."
   ]
  },
  {
   "cell_type": "markdown",
   "metadata": {
    "slideshow": {
     "slide_type": "fragment"
    }
   },
   "source": [
    "<img src=\"numpy.png\" style=\"background:none; border:none; box-shadow:none; display:inline; margin:0; vertical-align:middle;\" width=\"100%\">"
   ]
  },
  {
   "cell_type": "markdown",
   "metadata": {
    "slideshow": {
     "slide_type": "slide"
    }
   },
   "source": [
    "# Advantages of using Numpy\n",
    "\n",
    "- Array-oriented computing\n",
    "- Efficiently implemented multi-dimensional arrays\n",
    "- Designed for scientific computation\n",
    "\n",
    "But before we dive into Numpy, let's take a detour through Python data types...\n"
   ]
  },
  {
   "cell_type": "markdown",
   "metadata": {
    "slideshow": {
     "slide_type": "slide"
    }
   },
   "source": [
    "## Python Data Types\n",
    "\n",
    "Python has five standard data types. \n",
    "\n",
    "- Number\n",
    "- String\n",
    "- List \n",
    "- Tuple\n",
    "- Dictionary"
   ]
  },
  {
   "cell_type": "code",
   "execution_count": 29,
   "metadata": {
    "slideshow": {
     "slide_type": "slide"
    }
   },
   "outputs": [
    {
     "name": "stdout",
     "output_type": "stream",
     "text": [
      "Integer: 5 <class 'int'>\n",
      "Long integer: 51924361948403939480293840938 <class 'int'>\n",
      "Float 10.7 <class 'float'>\n",
      "Boolean:  True <class 'bool'>\n",
      "Complex: 9.322e-36j <class 'complex'>\n"
     ]
    }
   ],
   "source": [
    "# Numbers can be integers (including long), float, complex or boolean\n",
    "a = 5\n",
    "print('Integer:', a, type(a))\n",
    "\n",
    "b = 51924361948403939480293840938\n",
    "print('Long integer:', b, type(b))\n",
    "\n",
    "c = 10.7\n",
    "print('Float', c, type(c))\n",
    "\n",
    "t, f = True, False\n",
    "print('Boolean: ',t, type(t))\n",
    "\n",
    "d = 9.322e-36j\n",
    "print('Complex:', d, type(d))"
   ]
  },
  {
   "cell_type": "code",
   "execution_count": 1,
   "metadata": {
    "slideshow": {
     "slide_type": "slide"
    }
   },
   "outputs": [
    {
     "name": "stdout",
     "output_type": "stream",
     "text": [
      "A mouse once bit my sister.\n"
     ]
    }
   ],
   "source": [
    "# Strings are straight-forward as we saw with 'Hellow World!'\n",
    "\n",
    "string = 'A mouse once bit my sister.'\n",
    "print(string)"
   ]
  },
  {
   "cell_type": "code",
   "execution_count": 3,
   "metadata": {
    "slideshow": {
     "slide_type": "slide"
    }
   },
   "outputs": [
    {
     "name": "stdout",
     "output_type": "stream",
     "text": [
      "[1.2, 23.6, 'foo', 11]\n",
      "[1.2, 23.6, 'foo', 11, 'temp']\n"
     ]
    }
   ],
   "source": [
    "# Lists are the ones most similar to arrays, but not quite.\n",
    "# List items can be from different types.\n",
    "ll = [1.2, 23.6, 'foo', 11] ### <---- lists use square brackets!\n",
    "print(ll)\n",
    "\n",
    "# Lists are easy to append! Use in cases where you do not know the size of the input array!\n",
    "ll.append('temp')\n",
    "print(ll)"
   ]
  },
  {
   "cell_type": "code",
   "execution_count": 5,
   "metadata": {
    "slideshow": {
     "slide_type": "slide"
    }
   },
   "outputs": [
    {
     "name": "stdout",
     "output_type": "stream",
     "text": [
      "((1, 2, 3, 6.7), <type 'tuple'>)\n",
      "((1,), <type 'tuple'>)\n",
      "(1, <type 'int'>)\n"
     ]
    }
   ],
   "source": [
    "# Tuples: similar to lists, but have an interesting quality: once created they cannot be changed.\n",
    "# i.e., they are \"immutable\", they cannot be sorted, appended, etc.\n",
    "# This is good for certain cases (e.g. they can be keys to a dictionary), \n",
    "# tuple items can not be from different types.\n",
    "\n",
    "tup = (1,2,3,6.7) ### <---- use parenthesis for tuples\n",
    "print(tup, type(tup))\n",
    "\n",
    "oneItemTuple = (1,) ### <---- one item tuple should have trailing comma inside parenthesis\n",
    "print(oneItemTuple, type(oneItemTuple))\n",
    "\n",
    "number = (1)\n",
    "print(number, type(number))"
   ]
  },
  {
   "cell_type": "code",
   "execution_count": 6,
   "metadata": {
    "slideshow": {
     "slide_type": "slide"
    }
   },
   "outputs": [
    {
     "name": "stdout",
     "output_type": "stream",
     "text": [
      "{'lock': 1, 'name': 'saeed', 'key': 2}\n"
     ]
    }
   ],
   "source": [
    "# Dictionary: We use curely braces for dictionaries.\n",
    "dd = {'name': 'saeed'}\n",
    "dd['lock'] = 1\n",
    "dd['key'] = 2\n",
    "print(dd)"
   ]
  },
  {
   "cell_type": "markdown",
   "metadata": {
    "slideshow": {
     "slide_type": "slide"
    }
   },
   "source": [
    "## Numpy Data Types\n",
    "\n",
    "Numpy arrays are a different data type, beyond the five above: the `ndarray`. Numpy arrays can only contain one type of data but there are lots of options as to what that type is. A full list of Numpy data types can be found here:\n",
    "\n",
    "http://docs.scipy.org/doc/numpy/user/basics.types.html\n",
    "\n",
    "- Always use the smallest data type that is appropriate for your data.\n",
    "- Do not append to numpy arrays: it is hugely inefficient!  This is what `list`s are good for.\n"
   ]
  },
  {
   "cell_type": "code",
   "execution_count": 8,
   "metadata": {
    "slideshow": {
     "slide_type": "slide"
    }
   },
   "outputs": [
    {
     "data": {
      "text/plain": [
       "array([ 0.,  1.,  2.,  3.,  4.,  5.,  6.,  7.,  8.,  9.])"
      ]
     },
     "execution_count": 8,
     "metadata": {},
     "output_type": "execute_result"
    }
   ],
   "source": [
    "import numpy as np # importing numpy in namespace\n",
    "\n",
    "# values evenly spaced within an interval, specify the STEP:\n",
    "# np.arange(start, stop, step)\n",
    "np.arange(0,10,1, dtype=np.float) # if you don't specify the data type, Python will use the one that takes the least space"
   ]
  },
  {
   "cell_type": "code",
   "execution_count": 68,
   "metadata": {
    "slideshow": {
     "slide_type": "slide"
    }
   },
   "outputs": [
    {
     "data": {
      "text/plain": [
       "array([0, 1, 2, 3, 4, 5, 6, 7, 8, 9])"
      ]
     },
     "execution_count": 68,
     "metadata": {},
     "output_type": "execute_result"
    }
   ],
   "source": [
    "# values evenly spaced within an interval, specify the NUMBER OF VALUES:\n",
    "# np.linspace(star, stop, num=10)\n",
    "np.linspace(0,9,10, dtype=np.int)\n",
    "\n",
    "# there is also np.logspace\n",
    "#np.logspace(0,1,10)"
   ]
  },
  {
   "cell_type": "code",
   "execution_count": 69,
   "metadata": {
    "slideshow": {
     "slide_type": "slide"
    }
   },
   "outputs": [
    {
     "data": {
      "text/plain": [
       "array([1, 2, 3, 4, 5])"
      ]
     },
     "execution_count": 69,
     "metadata": {},
     "output_type": "execute_result"
    }
   ],
   "source": [
    "# create array from existing data:\n",
    "\n",
    "a = [1,2,3,4,5]\n",
    "b = np.array(a)\n",
    "b"
   ]
  },
  {
   "cell_type": "code",
   "execution_count": 10,
   "metadata": {
    "slideshow": {
     "slide_type": "slide"
    }
   },
   "outputs": [
    {
     "name": "stdout",
     "output_type": "stream",
     "text": [
      "('Ones:', array([ 1.,  1.,  1.,  1.,  1.,  1.,  1.,  1.,  1.,  1.]))\n",
      "('Zeros:', array([[ 0.,  0.],\n",
      "       [ 0.,  0.]]))\n"
     ]
    }
   ],
   "source": [
    "# another way to get a pre-filled array is to set all values to ones, zeros, or leave them empty:\n",
    "a = np.ones(10)\n",
    "print('Ones:', a)\n",
    "\n",
    "b = np.zeros([2, 2])\n",
    "print('Zeros:', b)\n",
    "\n"
   ]
  },
  {
   "cell_type": "markdown",
   "metadata": {
    "scrolled": true,
    "slideshow": {
     "slide_type": "slide"
    }
   },
   "source": [
    "# Attributes\n",
    "\n",
    "Each Numpy array has some attributes:\n",
    "`shape` (a tuple of the size in each dimension), `dtype` (data type of\n",
    "entries), `size` (total # of entries), `ndim` (# of dimensions), `T` (transpose)\n"
   ]
  },
  {
   "cell_type": "code",
   "execution_count": 18,
   "metadata": {
    "slideshow": {
     "slide_type": "subslide"
    }
   },
   "outputs": [
    {
     "name": "stdout",
     "output_type": "stream",
     "text": [
      "('b.shape', (4,))\n",
      "[[0 1]\n",
      " [2 3]]\n",
      "('a.shape', (2, 2))\n",
      "('a.dtype', dtype('int64'))\n",
      "('a.size', 4)\n",
      "('a.ndim', 2)\n",
      "('a.T', array([[0, 2],\n",
      "       [1, 3]]))\n"
     ]
    }
   ],
   "source": [
    "b = np.arange(2*2)\n",
    "print('b.shape', b.shape)\n",
    "a = b.reshape(2, 2)\n",
    "print(a)\n",
    "print('a.shape', a.shape)\n",
    "print('a.dtype', a.dtype)\n",
    "print('a.size' , a.size)\n",
    "print('a.ndim', a.ndim)\n",
    "print('a.T', a.T)"
   ]
  },
  {
   "attachments": {},
   "cell_type": "markdown",
   "metadata": {
    "slideshow": {
     "slide_type": "slide"
    }
   },
   "source": [
    "# Array Broadcasting\n",
    "![1.png](1.png)"
   ]
  },
  {
   "cell_type": "markdown",
   "metadata": {
    "slideshow": {
     "slide_type": "slide"
    }
   },
   "source": [
    "# NumPy for Matlab users.\n",
    "\n",
    "- Python uses 0 (zero) based indexing. The initial element of a sequence is found using a[0].\n",
    "- In NumPy arrays have pass-by-reference semantics. Slice operations are views into an array. But in Matlab Slice operations copy parts of the array.\n",
    "- In NumPy, we use bracket for array item indexing, but in Matlab we use pranthesis."
   ]
  },
  {
   "cell_type": "markdown",
   "metadata": {
    "slideshow": {
     "slide_type": "subslide"
    }
   },
   "source": [
    "\n",
    "| Matlab          | NumPy         | Notes |\n",
    "| :---------------|:--------------|:-----|\n",
    "| ndims(a)        | a.ndim        | get the number of dimensions of an array |\n",
    "| numel(a)        | a.size        | get the number of elements of an array |\n",
    "| size(a)         | a.shape       | get the “size” of the matrix |\n",
    "| size(a,n)       | a.shape[n-1]  | get the number of elements of the n-th dimension of array a. |\n",
    "| [1 2; 4 5]      | array([[1.,2.], [4.,5.]]) | 2 x 2 matrix literal |\n",
    "| [a b; c d]      | vstack([hstack([a,b]), hstack([c,d])]) | construct a matrix from blocks a, b, c, and d |\n",
    "| a(end)\t      | a[-1]\t        | access last element in the 1xn matrix a |\n",
    "| a(2,5)\t      | a[1,4]\t    | access element in second row, fifth column |\n",
    "| a(2,:)\t      | a[1] or a[1,:]| \tentire second row of a |\n",
    "| a * b\t          | a.dot(b)\t    | matrix multiply |\n",
    "| a .\\* b\t      | a * b\t        | element-wise multiply |\n",
    "| a./b\t          | a/b\t        | element-wise divide |\n",
    "| a.^3\t\t\t  | a\\*\\*3\t    | element-wise exponentiation |\n",
    "| rand(3,4)\t      | np.random.rand(3,4) |\trandom 3x4 matrix |\n",
    "| y=x(:)\t      | y = x.flatten()|turn array into vector |\n",
    "\n"
   ]
  },
  {
   "cell_type": "markdown",
   "metadata": {
    "slideshow": {
     "slide_type": "slide"
    }
   },
   "source": [
    "## Other Resources\n",
    "\n",
    "- Numpy documentation:\n",
    "\n",
    "http://docs.scipy.org/doc/numpy/\n",
    "\n",
    "- Numpy documentation quickstart:\n",
    "\n",
    "http://docs.scipy.org/doc/numpy/user/quickstart.html\n",
    "\n",
    "- Numpy documentation basics:\n",
    "\n",
    "http://docs.scipy.org/doc/numpy/user/basics.html\n",
    "\n",
    "- Good Tutorial:\n",
    "\n",
    "http://www.python-course.eu/numpy.php\n",
    "\n",
    "- Another tutorial, which has a similar approach to ours:\n",
    "\n",
    "http://cs231n.github.io/python-numpy-tutorial/"
   ]
  },
  {
   "cell_type": "markdown",
   "metadata": {
    "slideshow": {
     "slide_type": "skip"
    }
   },
   "source": [
    "To actually show this as a presentation, the easiest thing is to do ``jupyter nbconvert --to slides <this file's name>.ipynb --post serve``"
   ]
  },
  {
   "cell_type": "raw",
   "metadata": {
    "slideshow": {
     "slide_type": "skip"
    }
   },
   "source": [
    "<!--<link rel=\"stylesheet\" href=\"reveal.js/css/theme/sky.css\" id=\"theme\">-->"
   ]
  }
 ],
 "metadata": {
  "celltoolbar": "Slideshow",
  "kernelspec": {
   "display_name": "Python 2",
   "language": "python",
   "name": "python2"
  },
  "language_info": {
   "codemirror_mode": {
    "name": "ipython",
    "version": 2
   },
   "file_extension": ".py",
   "mimetype": "text/x-python",
   "name": "python",
   "nbconvert_exporter": "python",
   "pygments_lexer": "ipython2",
   "version": "2.7.12"
  }
 },
 "nbformat": 4,
 "nbformat_minor": 1
}
